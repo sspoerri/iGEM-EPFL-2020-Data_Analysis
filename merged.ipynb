{
 "cells": [
  {
   "cell_type": "code",
   "execution_count": 1,
   "metadata": {},
   "outputs": [],
   "source": [
    "import pandas as pd\n",
    "import numpy as np\n",
    "\n",
    "def convert_time(time):\n",
    "    # return time in hours and correct for day overflow (datetime object has attribute year only if it is more than 24h after start)\n",
    "    '''Converts the data format into seconds'''\n",
    "    h,m,s = (time.hour,time.minute,time.second)\n",
    "    return (int(h) * 3600 + int(m) * 60 + int(s))/3600 + (24 if hasattr(time,\"year\") else 0)\n",
    "\n",
    "\n",
    "def get_dataframe_from_xlsx(path):\n",
    "    df = pd.read_excel(path,header=None)\n",
    "\n",
    "    df_list = np.split(df, df[df.isnull().all(1)].index)\n",
    "    df_list_new = []\n",
    "    for i in range(len(df_list)):\n",
    "        df = df_list[i]\n",
    "        df.columns = df.iloc[0 if i == 0 else 1] #set header\n",
    "        df = df.iloc[1 if i == 0 else 2:] #delete first row (header)\n",
    "        df = df.set_index('Kinetic read') #set index\n",
    "        df.index = df.index.map(convert_time) #convert datetime.time into seconds\n",
    "        df = df[df.columns.dropna()] #remove empty columns\n",
    "        df = df.dropna() #remove all empty lines\n",
    "        df_list_new.append(df)\n",
    "    return pd.concat(df_list_new,axis=1)\n",
    "\n",
    "df_msn4 = get_dataframe_from_xlsx('iGEM-EPFL-2020-Data_Analysis/data/202000814_iGEM2020-KO-Fitness-plate7.xlsx')\n",
    "df_wt = get_dataframe_from_xlsx('iGEM-EPFL-2020-Data_Analysis/data/202000808_iGEM2020-KO-Fitness-plate5.xlsx')\n",
    "df_wt = df_wt.loc[:,~df_wt.columns.duplicated()] # remove duplicate columns\n",
    "df_msn2 = get_dataframe_from_xlsx('iGEM-EPFL-2020-Data_Analysis/data/202000809_iGEM2020-KO-Fitness-plate6.xlsx')\n",
    "df_yap1 = get_dataframe_from_xlsx('iGEM-EPFL-2020-Data_Analysis/data/202000815_iGEM2020-KO-Fitness-plate8.xlsx')"
   ]
  },
  {
   "cell_type": "code",
   "execution_count": 2,
   "metadata": {},
   "outputs": [],
   "source": [
    "import plotly.express as px\n",
    "import plotly.graph_objects as go"
   ]
  },
  {
   "cell_type": "code",
   "execution_count": 3,
   "metadata": {},
   "outputs": [],
   "source": [
    "import matplotlib as mpl\n",
    "mpl.rcParams['figure.dpi'] = 200\n",
    "import sys\n",
    "from scipy.optimize import curve_fit\n",
    "import string\n",
    "import matplotlib.pyplot as plt\n",
    "\n",
    "pesticides = ['Bentazone','Atrazine desisoprpyl','Chloridazone','DDT','Diazinon','Metolachlore','Simazine','Atrazine','Control']\n",
    "alph = string.ascii_uppercase\n",
    "\n",
    "def logistic(x,x0,y0,k,L):\n",
    "    '''Logistic function'''\n",
    "    return L/(1+np.exp(-k*(x-x0))) + y0\n",
    "\n",
    "def get_fit(df,col,init_vals):\n",
    "    '''Fit the logistic model and get the best parameters'''\n",
    "    t = np.array(df.index)\n",
    "    od = np.array(df[col],dtype=float)\n",
    "    try:\n",
    "        best_vals, covar = curve_fit(logistic, t, od, p0=init_vals)\n",
    "        return best_vals\n",
    "    except RuntimeError:\n",
    "        return [0,0,0,0]\n",
    "\n",
    "def getK(df,i,l):\n",
    "    k = []\n",
    "    for j in range(4):\n",
    "        col = str(i+1)\n",
    "        row = alph[l+j]\n",
    "        fit = get_fit(df,(row+col),[13,0.3,0.7,0.8])\n",
    "        k.append(fit[2])\n",
    "    return k"
   ]
  },
  {
   "cell_type": "code",
   "execution_count": 4,
   "metadata": {},
   "outputs": [],
   "source": [
    "K_msn4 = [getK(df_msn4,i,4) for i in range (len(pesticides))]\n",
    "K_msn2 = [getK(df_msn2,i,4) for i in range (len(pesticides))]\n",
    "K_yap1 = [getK(df_yap1,i,4) for i in range (len(pesticides))]\n",
    "K_wt = [getK(df_wt,i,4) for i in range (len(pesticides))]"
   ]
  },
  {
   "cell_type": "code",
   "execution_count": 5,
   "metadata": {},
   "outputs": [],
   "source": [
    "df_Ks = pd.DataFrame({\n",
    "    'MSN4':K_msn4,\n",
    "    'MSN2':K_msn2,\n",
    "    'YAP1':K_yap1,\n",
    "    'WT':K_wt,\n",
    "})"
   ]
  },
  {
   "cell_type": "code",
   "execution_count": 12,
   "metadata": {},
   "outputs": [],
   "source": [
    "vis_1 = 9*[True]+27*[False]\n",
    "vis_2 = 9*[False] + 9*[True]+18*[False]\n",
    "vis_3 = 18*[False] + 9*[True]+9*[False]\n",
    "vis_4 = 27*[False]+9*[True]"
   ]
  },
  {
   "cell_type": "code",
   "execution_count": 13,
   "metadata": {},
   "outputs": [
    {
     "data": {
      "application/vnd.plotly.v1+json": {
       "config": {
        "plotlyServerURL": "https://plot.ly"
       },
       "data": [
        {
         "boxpoints": "all",
         "line": {
          "width": 1
         },
         "marker": {
          "size": 4
         },
         "name": "Bentazone",
         "type": "box",
         "whiskerwidth": 0.4,
         "y": [
          0.7596013683212839,
          0.800047550977162,
          0.7514758194444312,
          0.7497714962587673
         ]
        },
        {
         "boxpoints": "all",
         "line": {
          "width": 1
         },
         "marker": {
          "size": 4
         },
         "name": "Atrazine desisoprpyl",
         "type": "box",
         "whiskerwidth": 0.4,
         "y": [
          0.7571045987340836,
          0.7807194052848614,
          0.7508980216711653,
          0.7292314621072902
         ]
        },
        {
         "boxpoints": "all",
         "line": {
          "width": 1
         },
         "marker": {
          "size": 4
         },
         "name": "Chloridazone",
         "type": "box",
         "whiskerwidth": 0.4,
         "y": [
          0.7615763277944482,
          0.738740865490519,
          0.7559711364729604,
          0.744420155735173
         ]
        },
        {
         "boxpoints": "all",
         "line": {
          "width": 1
         },
         "marker": {
          "size": 4
         },
         "name": "DDT",
         "type": "box",
         "whiskerwidth": 0.4,
         "y": [
          0.747037938879757,
          0.7370915469039152,
          0.7166189985113373,
          0.698565228094025
         ]
        },
        {
         "boxpoints": "all",
         "line": {
          "width": 1
         },
         "marker": {
          "size": 4
         },
         "name": "Diazinon",
         "type": "box",
         "whiskerwidth": 0.4,
         "y": [
          0.7719394965874824,
          0.7829965339823317,
          0.7780701339968974,
          0.7712552753498048
         ]
        },
        {
         "boxpoints": "all",
         "line": {
          "width": 1
         },
         "marker": {
          "size": 4
         },
         "name": "Metolachlore",
         "type": "box",
         "whiskerwidth": 0.4,
         "y": [
          0.7687692330709653,
          0.7866637895569603,
          0.7597854854788583,
          0.7926278948695799
         ]
        },
        {
         "boxpoints": "all",
         "line": {
          "width": 1
         },
         "marker": {
          "size": 4
         },
         "name": "Simazine",
         "type": "box",
         "whiskerwidth": 0.4,
         "y": [
          0.7514001583443285,
          0.7182964955404262,
          0.7610218845697646,
          0.7463402783461554
         ]
        },
        {
         "boxpoints": "all",
         "line": {
          "width": 1
         },
         "marker": {
          "size": 4
         },
         "name": "Atrazine",
         "type": "box",
         "whiskerwidth": 0.4,
         "y": [
          0.7157680757105896,
          0.7099805655852472,
          0.7523401477518025,
          0.722928547092517
         ]
        },
        {
         "boxpoints": "all",
         "line": {
          "width": 1
         },
         "marker": {
          "size": 4
         },
         "name": "Control",
         "type": "box",
         "whiskerwidth": 0.4,
         "y": [
          0.7387447530966292,
          0.7499323463786071,
          0.7240150457496904,
          0.762509971628545
         ]
        },
        {
         "boxpoints": "all",
         "line": {
          "width": 1
         },
         "marker": {
          "size": 4
         },
         "name": "Bentazone",
         "type": "box",
         "whiskerwidth": 0.4,
         "y": [
          0.7490948691680731,
          0.7383225807781775,
          0.739868231266124,
          0.73149019515947
         ]
        },
        {
         "boxpoints": "all",
         "line": {
          "width": 1
         },
         "marker": {
          "size": 4
         },
         "name": "Atrazine desisoprpyl",
         "type": "box",
         "whiskerwidth": 0.4,
         "y": [
          0.7445226718799131,
          0.7286689846753767,
          0.7422802616613704,
          0.7392983945334198
         ]
        },
        {
         "boxpoints": "all",
         "line": {
          "width": 1
         },
         "marker": {
          "size": 4
         },
         "name": "Chloridazone",
         "type": "box",
         "whiskerwidth": 0.4,
         "y": [
          0.7296106980361179,
          0.7334625483996118,
          0.7340871581016177,
          0.7396825008704226
         ]
        },
        {
         "boxpoints": "all",
         "line": {
          "width": 1
         },
         "marker": {
          "size": 4
         },
         "name": "DDT",
         "type": "box",
         "whiskerwidth": 0.4,
         "y": [
          0.7222763338425779,
          0.7278920854356729,
          0.725535892815755,
          0.7392115329563865
         ]
        },
        {
         "boxpoints": "all",
         "line": {
          "width": 1
         },
         "marker": {
          "size": 4
         },
         "name": "Diazinon",
         "type": "box",
         "whiskerwidth": 0.4,
         "y": [
          0.7353050051986384,
          0.7653940104178422,
          0.7607937077001335,
          0.7675189825016945
         ]
        },
        {
         "boxpoints": "all",
         "line": {
          "width": 1
         },
         "marker": {
          "size": 4
         },
         "name": "Metolachlore",
         "type": "box",
         "whiskerwidth": 0.4,
         "y": [
          0.7426246654498806,
          0.7690291851882247,
          0.7456495894018978,
          0.764518082650636
         ]
        },
        {
         "boxpoints": "all",
         "line": {
          "width": 1
         },
         "marker": {
          "size": 4
         },
         "name": "Simazine",
         "type": "box",
         "whiskerwidth": 0.4,
         "y": [
          0.7314069140127135,
          0.7270375599624747,
          0.7138480696196194,
          0.7452416926951433
         ]
        },
        {
         "boxpoints": "all",
         "line": {
          "width": 1
         },
         "marker": {
          "size": 4
         },
         "name": "Atrazine",
         "type": "box",
         "whiskerwidth": 0.4,
         "y": [
          0.7198420157373198,
          0.7301610037607447,
          0.7151517561820386,
          0.7522432161072246
         ]
        },
        {
         "boxpoints": "all",
         "line": {
          "width": 1
         },
         "marker": {
          "size": 4
         },
         "name": "Control",
         "type": "box",
         "whiskerwidth": 0.4,
         "y": [
          0.7236289339002636,
          0.7272919627961487,
          0.7082313734010557,
          0.728990280877904
         ]
        },
        {
         "boxpoints": "all",
         "line": {
          "width": 1
         },
         "marker": {
          "size": 4
         },
         "name": "Bentazone",
         "type": "box",
         "whiskerwidth": 0.4,
         "y": [
          0.6884242282729899,
          0.7152369772150265,
          0.7044637170631463,
          0.7109144732865503
         ]
        },
        {
         "boxpoints": "all",
         "line": {
          "width": 1
         },
         "marker": {
          "size": 4
         },
         "name": "Atrazine desisoprpyl",
         "type": "box",
         "whiskerwidth": 0.4,
         "y": [
          0.7259191507487726,
          0.710598998755268,
          0.7065767830067408,
          0.7052274422489256
         ]
        },
        {
         "boxpoints": "all",
         "line": {
          "width": 1
         },
         "marker": {
          "size": 4
         },
         "name": "Chloridazone",
         "type": "box",
         "whiskerwidth": 0.4,
         "y": [
          0.6474026861435844,
          0.6892351379659087,
          0.7005734200415078,
          0.6940101438923701
         ]
        },
        {
         "boxpoints": "all",
         "line": {
          "width": 1
         },
         "marker": {
          "size": 4
         },
         "name": "DDT",
         "type": "box",
         "whiskerwidth": 0.4,
         "y": [
          0.6927068657295702,
          0.6973000745754001,
          0.7087535054944311,
          0.6971390310871829
         ]
        },
        {
         "boxpoints": "all",
         "line": {
          "width": 1
         },
         "marker": {
          "size": 4
         },
         "name": "Diazinon",
         "type": "box",
         "whiskerwidth": 0.4,
         "y": [
          0.7301860975651702,
          0.7437261583330806,
          0.7234117543155918,
          0.7109126964405372
         ]
        },
        {
         "boxpoints": "all",
         "line": {
          "width": 1
         },
         "marker": {
          "size": 4
         },
         "name": "Metolachlore",
         "type": "box",
         "whiskerwidth": 0.4,
         "y": [
          0.7398687761642919,
          0.7189687459950687,
          0.7221118350197623,
          0.7255976171318383
         ]
        },
        {
         "boxpoints": "all",
         "line": {
          "width": 1
         },
         "marker": {
          "size": 4
         },
         "name": "Simazine",
         "type": "box",
         "whiskerwidth": 0.4,
         "y": [
          0.7015093811444206,
          0.7196400312060852,
          0.7200924154059198,
          0.7153897493830715
         ]
        },
        {
         "boxpoints": "all",
         "line": {
          "width": 1
         },
         "marker": {
          "size": 4
         },
         "name": "Atrazine",
         "type": "box",
         "whiskerwidth": 0.4,
         "y": [
          0.7080641728607608,
          0.6947023488997485,
          0.7093074992293662,
          0.7048866160559034
         ]
        },
        {
         "boxpoints": "all",
         "line": {
          "width": 1
         },
         "marker": {
          "size": 4
         },
         "name": "Control",
         "type": "box",
         "whiskerwidth": 0.4,
         "y": [
          0.7032468363212071,
          0.7146013294693577,
          0.7074301808596033,
          0.7261291514035059
         ]
        },
        {
         "boxpoints": "all",
         "line": {
          "width": 1
         },
         "marker": {
          "size": 4
         },
         "name": "Bentazone",
         "type": "box",
         "whiskerwidth": 0.4,
         "y": [
          0.7737241776671104,
          0.7684361746375518,
          0.7624274356922898,
          0.7629263756419552
         ]
        },
        {
         "boxpoints": "all",
         "line": {
          "width": 1
         },
         "marker": {
          "size": 4
         },
         "name": "Atrazine desisoprpyl",
         "type": "box",
         "whiskerwidth": 0.4,
         "y": [
          0.767077588669424,
          0.760203215358529,
          0.7555967423434646,
          0.7646908467195576
         ]
        },
        {
         "boxpoints": "all",
         "line": {
          "width": 1
         },
         "marker": {
          "size": 4
         },
         "name": "Chloridazone",
         "type": "box",
         "whiskerwidth": 0.4,
         "y": [
          0.757903463974508,
          0.7595745940077484,
          0.7548145082449431,
          0.7526050974485528
         ]
        },
        {
         "boxpoints": "all",
         "line": {
          "width": 1
         },
         "marker": {
          "size": 4
         },
         "name": "DDT",
         "type": "box",
         "whiskerwidth": 0.4,
         "y": [
          0.7655092470141764,
          0.7477955882828767,
          0.7437805132716394,
          0.7417949873913778
         ]
        },
        {
         "boxpoints": "all",
         "line": {
          "width": 1
         },
         "marker": {
          "size": 4
         },
         "name": "Diazinon",
         "type": "box",
         "whiskerwidth": 0.4,
         "y": [
          0.7563047260708716,
          0.7698835968804124,
          0.7466803587274842,
          0.7516694665021398
         ]
        },
        {
         "boxpoints": "all",
         "line": {
          "width": 1
         },
         "marker": {
          "size": 4
         },
         "name": "Metolachlore",
         "type": "box",
         "whiskerwidth": 0.4,
         "y": [
          0.7566146347349036,
          0.7488678191412643,
          0.7567524935347001,
          0.7613003187398425
         ]
        },
        {
         "boxpoints": "all",
         "line": {
          "width": 1
         },
         "marker": {
          "size": 4
         },
         "name": "Simazine",
         "type": "box",
         "whiskerwidth": 0.4,
         "y": [
          0.7587795891499391,
          0.7434385240268049,
          0.7515859012036588,
          0.7485590566746456
         ]
        },
        {
         "boxpoints": "all",
         "line": {
          "width": 1
         },
         "marker": {
          "size": 4
         },
         "name": "Atrazine",
         "type": "box",
         "whiskerwidth": 0.4,
         "y": [
          0.7599061928747887,
          0.7385069384088351,
          0.7531838674449295,
          0.7480585051856622
         ]
        },
        {
         "boxpoints": "all",
         "line": {
          "width": 1
         },
         "marker": {
          "size": 4
         },
         "name": "Control",
         "type": "box",
         "whiskerwidth": 0.4,
         "y": [
          0.75244860522638,
          0.7485030684473706,
          0.7405719870464708,
          0.7565710895109635
         ]
        }
       ],
       "layout": {
        "template": {
         "data": {
          "bar": [
           {
            "error_x": {
             "color": "#2a3f5f"
            },
            "error_y": {
             "color": "#2a3f5f"
            },
            "marker": {
             "line": {
              "color": "#E5ECF6",
              "width": 0.5
             }
            },
            "type": "bar"
           }
          ],
          "barpolar": [
           {
            "marker": {
             "line": {
              "color": "#E5ECF6",
              "width": 0.5
             }
            },
            "type": "barpolar"
           }
          ],
          "carpet": [
           {
            "aaxis": {
             "endlinecolor": "#2a3f5f",
             "gridcolor": "white",
             "linecolor": "white",
             "minorgridcolor": "white",
             "startlinecolor": "#2a3f5f"
            },
            "baxis": {
             "endlinecolor": "#2a3f5f",
             "gridcolor": "white",
             "linecolor": "white",
             "minorgridcolor": "white",
             "startlinecolor": "#2a3f5f"
            },
            "type": "carpet"
           }
          ],
          "choropleth": [
           {
            "colorbar": {
             "outlinewidth": 0,
             "ticks": ""
            },
            "type": "choropleth"
           }
          ],
          "contour": [
           {
            "colorbar": {
             "outlinewidth": 0,
             "ticks": ""
            },
            "colorscale": [
             [
              0,
              "#0d0887"
             ],
             [
              0.1111111111111111,
              "#46039f"
             ],
             [
              0.2222222222222222,
              "#7201a8"
             ],
             [
              0.3333333333333333,
              "#9c179e"
             ],
             [
              0.4444444444444444,
              "#bd3786"
             ],
             [
              0.5555555555555556,
              "#d8576b"
             ],
             [
              0.6666666666666666,
              "#ed7953"
             ],
             [
              0.7777777777777778,
              "#fb9f3a"
             ],
             [
              0.8888888888888888,
              "#fdca26"
             ],
             [
              1,
              "#f0f921"
             ]
            ],
            "type": "contour"
           }
          ],
          "contourcarpet": [
           {
            "colorbar": {
             "outlinewidth": 0,
             "ticks": ""
            },
            "type": "contourcarpet"
           }
          ],
          "heatmap": [
           {
            "colorbar": {
             "outlinewidth": 0,
             "ticks": ""
            },
            "colorscale": [
             [
              0,
              "#0d0887"
             ],
             [
              0.1111111111111111,
              "#46039f"
             ],
             [
              0.2222222222222222,
              "#7201a8"
             ],
             [
              0.3333333333333333,
              "#9c179e"
             ],
             [
              0.4444444444444444,
              "#bd3786"
             ],
             [
              0.5555555555555556,
              "#d8576b"
             ],
             [
              0.6666666666666666,
              "#ed7953"
             ],
             [
              0.7777777777777778,
              "#fb9f3a"
             ],
             [
              0.8888888888888888,
              "#fdca26"
             ],
             [
              1,
              "#f0f921"
             ]
            ],
            "type": "heatmap"
           }
          ],
          "heatmapgl": [
           {
            "colorbar": {
             "outlinewidth": 0,
             "ticks": ""
            },
            "colorscale": [
             [
              0,
              "#0d0887"
             ],
             [
              0.1111111111111111,
              "#46039f"
             ],
             [
              0.2222222222222222,
              "#7201a8"
             ],
             [
              0.3333333333333333,
              "#9c179e"
             ],
             [
              0.4444444444444444,
              "#bd3786"
             ],
             [
              0.5555555555555556,
              "#d8576b"
             ],
             [
              0.6666666666666666,
              "#ed7953"
             ],
             [
              0.7777777777777778,
              "#fb9f3a"
             ],
             [
              0.8888888888888888,
              "#fdca26"
             ],
             [
              1,
              "#f0f921"
             ]
            ],
            "type": "heatmapgl"
           }
          ],
          "histogram": [
           {
            "marker": {
             "colorbar": {
              "outlinewidth": 0,
              "ticks": ""
             }
            },
            "type": "histogram"
           }
          ],
          "histogram2d": [
           {
            "colorbar": {
             "outlinewidth": 0,
             "ticks": ""
            },
            "colorscale": [
             [
              0,
              "#0d0887"
             ],
             [
              0.1111111111111111,
              "#46039f"
             ],
             [
              0.2222222222222222,
              "#7201a8"
             ],
             [
              0.3333333333333333,
              "#9c179e"
             ],
             [
              0.4444444444444444,
              "#bd3786"
             ],
             [
              0.5555555555555556,
              "#d8576b"
             ],
             [
              0.6666666666666666,
              "#ed7953"
             ],
             [
              0.7777777777777778,
              "#fb9f3a"
             ],
             [
              0.8888888888888888,
              "#fdca26"
             ],
             [
              1,
              "#f0f921"
             ]
            ],
            "type": "histogram2d"
           }
          ],
          "histogram2dcontour": [
           {
            "colorbar": {
             "outlinewidth": 0,
             "ticks": ""
            },
            "colorscale": [
             [
              0,
              "#0d0887"
             ],
             [
              0.1111111111111111,
              "#46039f"
             ],
             [
              0.2222222222222222,
              "#7201a8"
             ],
             [
              0.3333333333333333,
              "#9c179e"
             ],
             [
              0.4444444444444444,
              "#bd3786"
             ],
             [
              0.5555555555555556,
              "#d8576b"
             ],
             [
              0.6666666666666666,
              "#ed7953"
             ],
             [
              0.7777777777777778,
              "#fb9f3a"
             ],
             [
              0.8888888888888888,
              "#fdca26"
             ],
             [
              1,
              "#f0f921"
             ]
            ],
            "type": "histogram2dcontour"
           }
          ],
          "mesh3d": [
           {
            "colorbar": {
             "outlinewidth": 0,
             "ticks": ""
            },
            "type": "mesh3d"
           }
          ],
          "parcoords": [
           {
            "line": {
             "colorbar": {
              "outlinewidth": 0,
              "ticks": ""
             }
            },
            "type": "parcoords"
           }
          ],
          "pie": [
           {
            "automargin": true,
            "type": "pie"
           }
          ],
          "scatter": [
           {
            "marker": {
             "colorbar": {
              "outlinewidth": 0,
              "ticks": ""
             }
            },
            "type": "scatter"
           }
          ],
          "scatter3d": [
           {
            "line": {
             "colorbar": {
              "outlinewidth": 0,
              "ticks": ""
             }
            },
            "marker": {
             "colorbar": {
              "outlinewidth": 0,
              "ticks": ""
             }
            },
            "type": "scatter3d"
           }
          ],
          "scattercarpet": [
           {
            "marker": {
             "colorbar": {
              "outlinewidth": 0,
              "ticks": ""
             }
            },
            "type": "scattercarpet"
           }
          ],
          "scattergeo": [
           {
            "marker": {
             "colorbar": {
              "outlinewidth": 0,
              "ticks": ""
             }
            },
            "type": "scattergeo"
           }
          ],
          "scattergl": [
           {
            "marker": {
             "colorbar": {
              "outlinewidth": 0,
              "ticks": ""
             }
            },
            "type": "scattergl"
           }
          ],
          "scattermapbox": [
           {
            "marker": {
             "colorbar": {
              "outlinewidth": 0,
              "ticks": ""
             }
            },
            "type": "scattermapbox"
           }
          ],
          "scatterpolar": [
           {
            "marker": {
             "colorbar": {
              "outlinewidth": 0,
              "ticks": ""
             }
            },
            "type": "scatterpolar"
           }
          ],
          "scatterpolargl": [
           {
            "marker": {
             "colorbar": {
              "outlinewidth": 0,
              "ticks": ""
             }
            },
            "type": "scatterpolargl"
           }
          ],
          "scatterternary": [
           {
            "marker": {
             "colorbar": {
              "outlinewidth": 0,
              "ticks": ""
             }
            },
            "type": "scatterternary"
           }
          ],
          "surface": [
           {
            "colorbar": {
             "outlinewidth": 0,
             "ticks": ""
            },
            "colorscale": [
             [
              0,
              "#0d0887"
             ],
             [
              0.1111111111111111,
              "#46039f"
             ],
             [
              0.2222222222222222,
              "#7201a8"
             ],
             [
              0.3333333333333333,
              "#9c179e"
             ],
             [
              0.4444444444444444,
              "#bd3786"
             ],
             [
              0.5555555555555556,
              "#d8576b"
             ],
             [
              0.6666666666666666,
              "#ed7953"
             ],
             [
              0.7777777777777778,
              "#fb9f3a"
             ],
             [
              0.8888888888888888,
              "#fdca26"
             ],
             [
              1,
              "#f0f921"
             ]
            ],
            "type": "surface"
           }
          ],
          "table": [
           {
            "cells": {
             "fill": {
              "color": "#EBF0F8"
             },
             "line": {
              "color": "white"
             }
            },
            "header": {
             "fill": {
              "color": "#C8D4E3"
             },
             "line": {
              "color": "white"
             }
            },
            "type": "table"
           }
          ]
         },
         "layout": {
          "annotationdefaults": {
           "arrowcolor": "#2a3f5f",
           "arrowhead": 0,
           "arrowwidth": 1
          },
          "coloraxis": {
           "colorbar": {
            "outlinewidth": 0,
            "ticks": ""
           }
          },
          "colorscale": {
           "diverging": [
            [
             0,
             "#8e0152"
            ],
            [
             0.1,
             "#c51b7d"
            ],
            [
             0.2,
             "#de77ae"
            ],
            [
             0.3,
             "#f1b6da"
            ],
            [
             0.4,
             "#fde0ef"
            ],
            [
             0.5,
             "#f7f7f7"
            ],
            [
             0.6,
             "#e6f5d0"
            ],
            [
             0.7,
             "#b8e186"
            ],
            [
             0.8,
             "#7fbc41"
            ],
            [
             0.9,
             "#4d9221"
            ],
            [
             1,
             "#276419"
            ]
           ],
           "sequential": [
            [
             0,
             "#0d0887"
            ],
            [
             0.1111111111111111,
             "#46039f"
            ],
            [
             0.2222222222222222,
             "#7201a8"
            ],
            [
             0.3333333333333333,
             "#9c179e"
            ],
            [
             0.4444444444444444,
             "#bd3786"
            ],
            [
             0.5555555555555556,
             "#d8576b"
            ],
            [
             0.6666666666666666,
             "#ed7953"
            ],
            [
             0.7777777777777778,
             "#fb9f3a"
            ],
            [
             0.8888888888888888,
             "#fdca26"
            ],
            [
             1,
             "#f0f921"
            ]
           ],
           "sequentialminus": [
            [
             0,
             "#0d0887"
            ],
            [
             0.1111111111111111,
             "#46039f"
            ],
            [
             0.2222222222222222,
             "#7201a8"
            ],
            [
             0.3333333333333333,
             "#9c179e"
            ],
            [
             0.4444444444444444,
             "#bd3786"
            ],
            [
             0.5555555555555556,
             "#d8576b"
            ],
            [
             0.6666666666666666,
             "#ed7953"
            ],
            [
             0.7777777777777778,
             "#fb9f3a"
            ],
            [
             0.8888888888888888,
             "#fdca26"
            ],
            [
             1,
             "#f0f921"
            ]
           ]
          },
          "colorway": [
           "#636efa",
           "#EF553B",
           "#00cc96",
           "#ab63fa",
           "#FFA15A",
           "#19d3f3",
           "#FF6692",
           "#B6E880",
           "#FF97FF",
           "#FECB52"
          ],
          "font": {
           "color": "#2a3f5f"
          },
          "geo": {
           "bgcolor": "white",
           "lakecolor": "white",
           "landcolor": "#E5ECF6",
           "showlakes": true,
           "showland": true,
           "subunitcolor": "white"
          },
          "hoverlabel": {
           "align": "left"
          },
          "hovermode": "closest",
          "mapbox": {
           "style": "light"
          },
          "paper_bgcolor": "white",
          "plot_bgcolor": "#E5ECF6",
          "polar": {
           "angularaxis": {
            "gridcolor": "white",
            "linecolor": "white",
            "ticks": ""
           },
           "bgcolor": "#E5ECF6",
           "radialaxis": {
            "gridcolor": "white",
            "linecolor": "white",
            "ticks": ""
           }
          },
          "scene": {
           "xaxis": {
            "backgroundcolor": "#E5ECF6",
            "gridcolor": "white",
            "gridwidth": 2,
            "linecolor": "white",
            "showbackground": true,
            "ticks": "",
            "zerolinecolor": "white"
           },
           "yaxis": {
            "backgroundcolor": "#E5ECF6",
            "gridcolor": "white",
            "gridwidth": 2,
            "linecolor": "white",
            "showbackground": true,
            "ticks": "",
            "zerolinecolor": "white"
           },
           "zaxis": {
            "backgroundcolor": "#E5ECF6",
            "gridcolor": "white",
            "gridwidth": 2,
            "linecolor": "white",
            "showbackground": true,
            "ticks": "",
            "zerolinecolor": "white"
           }
          },
          "shapedefaults": {
           "line": {
            "color": "#2a3f5f"
           }
          },
          "ternary": {
           "aaxis": {
            "gridcolor": "white",
            "linecolor": "white",
            "ticks": ""
           },
           "baxis": {
            "gridcolor": "white",
            "linecolor": "white",
            "ticks": ""
           },
           "bgcolor": "#E5ECF6",
           "caxis": {
            "gridcolor": "white",
            "linecolor": "white",
            "ticks": ""
           }
          },
          "title": {
           "x": 0.05
          },
          "xaxis": {
           "automargin": true,
           "gridcolor": "white",
           "linecolor": "white",
           "ticks": "",
           "title": {
            "standoff": 15
           },
           "zerolinecolor": "white",
           "zerolinewidth": 2
          },
          "yaxis": {
           "automargin": true,
           "gridcolor": "white",
           "linecolor": "white",
           "ticks": "",
           "title": {
            "standoff": 15
           },
           "zerolinecolor": "white",
           "zerolinewidth": 2
          }
         }
        },
        "updatemenus": [
         {
          "active": 0,
          "buttons": [
           {
            "args": [
             {
              "visible": [
               true,
               true,
               true,
               true,
               true,
               true,
               true,
               true,
               true,
               false,
               false,
               false,
               false,
               false,
               false,
               false,
               false,
               false,
               false,
               false,
               false,
               false,
               false,
               false,
               false,
               false,
               false,
               false,
               false,
               false,
               false,
               false,
               false,
               false,
               false,
               false
              ]
             },
             {
              "showlegend": true,
              "title": "MSN4"
             }
            ],
            "label": "MSN4",
            "method": "update"
           },
           {
            "args": [
             {
              "visible": [
               false,
               false,
               false,
               false,
               false,
               false,
               false,
               false,
               false,
               true,
               true,
               true,
               true,
               true,
               true,
               true,
               true,
               true,
               false,
               false,
               false,
               false,
               false,
               false,
               false,
               false,
               false,
               false,
               false,
               false,
               false,
               false,
               false,
               false,
               false,
               false
              ]
             },
             {
              "showlegend": true,
              "title": "MSN2"
             }
            ],
            "label": "MSN2",
            "method": "update"
           },
           {
            "args": [
             {
              "visible": [
               false,
               false,
               false,
               false,
               false,
               false,
               false,
               false,
               false,
               false,
               false,
               false,
               false,
               false,
               false,
               false,
               false,
               false,
               true,
               true,
               true,
               true,
               true,
               true,
               true,
               true,
               true,
               false,
               false,
               false,
               false,
               false,
               false,
               false,
               false,
               false
              ]
             },
             {
              "showlegend": true,
              "title": "YAP1"
             }
            ],
            "label": "YAP1",
            "method": "update"
           },
           {
            "args": [
             {
              "visible": [
               false,
               false,
               false,
               false,
               false,
               false,
               false,
               false,
               false,
               false,
               false,
               false,
               false,
               false,
               false,
               false,
               false,
               false,
               false,
               false,
               false,
               false,
               false,
               false,
               false,
               false,
               false,
               true,
               true,
               true,
               true,
               true,
               true,
               true,
               true,
               true
              ]
             },
             {
              "showlegend": true,
              "title": "WT"
             }
            ],
            "label": "WT",
            "method": "update"
           }
          ]
         }
        ]
       }
      },
      "text/html": [
       "<div>\n",
       "        \n",
       "        \n",
       "            <div id=\"1088b221-5ad9-4488-8696-114191a9aa65\" class=\"plotly-graph-div\" style=\"height:525px; width:100%;\"></div>\n",
       "            <script type=\"text/javascript\">\n",
       "                require([\"plotly\"], function(Plotly) {\n",
       "                    window.PLOTLYENV=window.PLOTLYENV || {};\n",
       "                    \n",
       "                if (document.getElementById(\"1088b221-5ad9-4488-8696-114191a9aa65\")) {\n",
       "                    Plotly.newPlot(\n",
       "                        '1088b221-5ad9-4488-8696-114191a9aa65',\n",
       "                        [{\"boxpoints\": \"all\", \"line\": {\"width\": 1}, \"marker\": {\"size\": 4}, \"name\": \"Bentazone\", \"type\": \"box\", \"whiskerwidth\": 0.4, \"y\": [0.7596013683212839, 0.800047550977162, 0.7514758194444312, 0.7497714962587673]}, {\"boxpoints\": \"all\", \"line\": {\"width\": 1}, \"marker\": {\"size\": 4}, \"name\": \"Atrazine desisoprpyl\", \"type\": \"box\", \"whiskerwidth\": 0.4, \"y\": [0.7571045987340836, 0.7807194052848614, 0.7508980216711653, 0.7292314621072902]}, {\"boxpoints\": \"all\", \"line\": {\"width\": 1}, \"marker\": {\"size\": 4}, \"name\": \"Chloridazone\", \"type\": \"box\", \"whiskerwidth\": 0.4, \"y\": [0.7615763277944482, 0.738740865490519, 0.7559711364729604, 0.744420155735173]}, {\"boxpoints\": \"all\", \"line\": {\"width\": 1}, \"marker\": {\"size\": 4}, \"name\": \"DDT\", \"type\": \"box\", \"whiskerwidth\": 0.4, \"y\": [0.747037938879757, 0.7370915469039152, 0.7166189985113373, 0.698565228094025]}, {\"boxpoints\": \"all\", \"line\": {\"width\": 1}, \"marker\": {\"size\": 4}, \"name\": \"Diazinon\", \"type\": \"box\", \"whiskerwidth\": 0.4, \"y\": [0.7719394965874824, 0.7829965339823317, 0.7780701339968974, 0.7712552753498048]}, {\"boxpoints\": \"all\", \"line\": {\"width\": 1}, \"marker\": {\"size\": 4}, \"name\": \"Metolachlore\", \"type\": \"box\", \"whiskerwidth\": 0.4, \"y\": [0.7687692330709653, 0.7866637895569603, 0.7597854854788583, 0.7926278948695799]}, {\"boxpoints\": \"all\", \"line\": {\"width\": 1}, \"marker\": {\"size\": 4}, \"name\": \"Simazine\", \"type\": \"box\", \"whiskerwidth\": 0.4, \"y\": [0.7514001583443285, 0.7182964955404262, 0.7610218845697646, 0.7463402783461554]}, {\"boxpoints\": \"all\", \"line\": {\"width\": 1}, \"marker\": {\"size\": 4}, \"name\": \"Atrazine\", \"type\": \"box\", \"whiskerwidth\": 0.4, \"y\": [0.7157680757105896, 0.7099805655852472, 0.7523401477518025, 0.722928547092517]}, {\"boxpoints\": \"all\", \"line\": {\"width\": 1}, \"marker\": {\"size\": 4}, \"name\": \"Control\", \"type\": \"box\", \"whiskerwidth\": 0.4, \"y\": [0.7387447530966292, 0.7499323463786071, 0.7240150457496904, 0.762509971628545]}, {\"boxpoints\": \"all\", \"line\": {\"width\": 1}, \"marker\": {\"size\": 4}, \"name\": \"Bentazone\", \"type\": \"box\", \"whiskerwidth\": 0.4, \"y\": [0.7490948691680731, 0.7383225807781775, 0.739868231266124, 0.73149019515947]}, {\"boxpoints\": \"all\", \"line\": {\"width\": 1}, \"marker\": {\"size\": 4}, \"name\": \"Atrazine desisoprpyl\", \"type\": \"box\", \"whiskerwidth\": 0.4, \"y\": [0.7445226718799131, 0.7286689846753767, 0.7422802616613704, 0.7392983945334198]}, {\"boxpoints\": \"all\", \"line\": {\"width\": 1}, \"marker\": {\"size\": 4}, \"name\": \"Chloridazone\", \"type\": \"box\", \"whiskerwidth\": 0.4, \"y\": [0.7296106980361179, 0.7334625483996118, 0.7340871581016177, 0.7396825008704226]}, {\"boxpoints\": \"all\", \"line\": {\"width\": 1}, \"marker\": {\"size\": 4}, \"name\": \"DDT\", \"type\": \"box\", \"whiskerwidth\": 0.4, \"y\": [0.7222763338425779, 0.7278920854356729, 0.725535892815755, 0.7392115329563865]}, {\"boxpoints\": \"all\", \"line\": {\"width\": 1}, \"marker\": {\"size\": 4}, \"name\": \"Diazinon\", \"type\": \"box\", \"whiskerwidth\": 0.4, \"y\": [0.7353050051986384, 0.7653940104178422, 0.7607937077001335, 0.7675189825016945]}, {\"boxpoints\": \"all\", \"line\": {\"width\": 1}, \"marker\": {\"size\": 4}, \"name\": \"Metolachlore\", \"type\": \"box\", \"whiskerwidth\": 0.4, \"y\": [0.7426246654498806, 0.7690291851882247, 0.7456495894018978, 0.764518082650636]}, {\"boxpoints\": \"all\", \"line\": {\"width\": 1}, \"marker\": {\"size\": 4}, \"name\": \"Simazine\", \"type\": \"box\", \"whiskerwidth\": 0.4, \"y\": [0.7314069140127135, 0.7270375599624747, 0.7138480696196194, 0.7452416926951433]}, {\"boxpoints\": \"all\", \"line\": {\"width\": 1}, \"marker\": {\"size\": 4}, \"name\": \"Atrazine\", \"type\": \"box\", \"whiskerwidth\": 0.4, \"y\": [0.7198420157373198, 0.7301610037607447, 0.7151517561820386, 0.7522432161072246]}, {\"boxpoints\": \"all\", \"line\": {\"width\": 1}, \"marker\": {\"size\": 4}, \"name\": \"Control\", \"type\": \"box\", \"whiskerwidth\": 0.4, \"y\": [0.7236289339002636, 0.7272919627961487, 0.7082313734010557, 0.728990280877904]}, {\"boxpoints\": \"all\", \"line\": {\"width\": 1}, \"marker\": {\"size\": 4}, \"name\": \"Bentazone\", \"type\": \"box\", \"whiskerwidth\": 0.4, \"y\": [0.6884242282729899, 0.7152369772150265, 0.7044637170631463, 0.7109144732865503]}, {\"boxpoints\": \"all\", \"line\": {\"width\": 1}, \"marker\": {\"size\": 4}, \"name\": \"Atrazine desisoprpyl\", \"type\": \"box\", \"whiskerwidth\": 0.4, \"y\": [0.7259191507487726, 0.710598998755268, 0.7065767830067408, 0.7052274422489256]}, {\"boxpoints\": \"all\", \"line\": {\"width\": 1}, \"marker\": {\"size\": 4}, \"name\": \"Chloridazone\", \"type\": \"box\", \"whiskerwidth\": 0.4, \"y\": [0.6474026861435844, 0.6892351379659087, 0.7005734200415078, 0.6940101438923701]}, {\"boxpoints\": \"all\", \"line\": {\"width\": 1}, \"marker\": {\"size\": 4}, \"name\": \"DDT\", \"type\": \"box\", \"whiskerwidth\": 0.4, \"y\": [0.6927068657295702, 0.6973000745754001, 0.7087535054944311, 0.6971390310871829]}, {\"boxpoints\": \"all\", \"line\": {\"width\": 1}, \"marker\": {\"size\": 4}, \"name\": \"Diazinon\", \"type\": \"box\", \"whiskerwidth\": 0.4, \"y\": [0.7301860975651702, 0.7437261583330806, 0.7234117543155918, 0.7109126964405372]}, {\"boxpoints\": \"all\", \"line\": {\"width\": 1}, \"marker\": {\"size\": 4}, \"name\": \"Metolachlore\", \"type\": \"box\", \"whiskerwidth\": 0.4, \"y\": [0.7398687761642919, 0.7189687459950687, 0.7221118350197623, 0.7255976171318383]}, {\"boxpoints\": \"all\", \"line\": {\"width\": 1}, \"marker\": {\"size\": 4}, \"name\": \"Simazine\", \"type\": \"box\", \"whiskerwidth\": 0.4, \"y\": [0.7015093811444206, 0.7196400312060852, 0.7200924154059198, 0.7153897493830715]}, {\"boxpoints\": \"all\", \"line\": {\"width\": 1}, \"marker\": {\"size\": 4}, \"name\": \"Atrazine\", \"type\": \"box\", \"whiskerwidth\": 0.4, \"y\": [0.7080641728607608, 0.6947023488997485, 0.7093074992293662, 0.7048866160559034]}, {\"boxpoints\": \"all\", \"line\": {\"width\": 1}, \"marker\": {\"size\": 4}, \"name\": \"Control\", \"type\": \"box\", \"whiskerwidth\": 0.4, \"y\": [0.7032468363212071, 0.7146013294693577, 0.7074301808596033, 0.7261291514035059]}, {\"boxpoints\": \"all\", \"line\": {\"width\": 1}, \"marker\": {\"size\": 4}, \"name\": \"Bentazone\", \"type\": \"box\", \"whiskerwidth\": 0.4, \"y\": [0.7737241776671104, 0.7684361746375518, 0.7624274356922898, 0.7629263756419552]}, {\"boxpoints\": \"all\", \"line\": {\"width\": 1}, \"marker\": {\"size\": 4}, \"name\": \"Atrazine desisoprpyl\", \"type\": \"box\", \"whiskerwidth\": 0.4, \"y\": [0.767077588669424, 0.760203215358529, 0.7555967423434646, 0.7646908467195576]}, {\"boxpoints\": \"all\", \"line\": {\"width\": 1}, \"marker\": {\"size\": 4}, \"name\": \"Chloridazone\", \"type\": \"box\", \"whiskerwidth\": 0.4, \"y\": [0.757903463974508, 0.7595745940077484, 0.7548145082449431, 0.7526050974485528]}, {\"boxpoints\": \"all\", \"line\": {\"width\": 1}, \"marker\": {\"size\": 4}, \"name\": \"DDT\", \"type\": \"box\", \"whiskerwidth\": 0.4, \"y\": [0.7655092470141764, 0.7477955882828767, 0.7437805132716394, 0.7417949873913778]}, {\"boxpoints\": \"all\", \"line\": {\"width\": 1}, \"marker\": {\"size\": 4}, \"name\": \"Diazinon\", \"type\": \"box\", \"whiskerwidth\": 0.4, \"y\": [0.7563047260708716, 0.7698835968804124, 0.7466803587274842, 0.7516694665021398]}, {\"boxpoints\": \"all\", \"line\": {\"width\": 1}, \"marker\": {\"size\": 4}, \"name\": \"Metolachlore\", \"type\": \"box\", \"whiskerwidth\": 0.4, \"y\": [0.7566146347349036, 0.7488678191412643, 0.7567524935347001, 0.7613003187398425]}, {\"boxpoints\": \"all\", \"line\": {\"width\": 1}, \"marker\": {\"size\": 4}, \"name\": \"Simazine\", \"type\": \"box\", \"whiskerwidth\": 0.4, \"y\": [0.7587795891499391, 0.7434385240268049, 0.7515859012036588, 0.7485590566746456]}, {\"boxpoints\": \"all\", \"line\": {\"width\": 1}, \"marker\": {\"size\": 4}, \"name\": \"Atrazine\", \"type\": \"box\", \"whiskerwidth\": 0.4, \"y\": [0.7599061928747887, 0.7385069384088351, 0.7531838674449295, 0.7480585051856622]}, {\"boxpoints\": \"all\", \"line\": {\"width\": 1}, \"marker\": {\"size\": 4}, \"name\": \"Control\", \"type\": \"box\", \"whiskerwidth\": 0.4, \"y\": [0.75244860522638, 0.7485030684473706, 0.7405719870464708, 0.7565710895109635]}],\n",
       "                        {\"template\": {\"data\": {\"bar\": [{\"error_x\": {\"color\": \"#2a3f5f\"}, \"error_y\": {\"color\": \"#2a3f5f\"}, \"marker\": {\"line\": {\"color\": \"#E5ECF6\", \"width\": 0.5}}, \"type\": \"bar\"}], \"barpolar\": [{\"marker\": {\"line\": {\"color\": \"#E5ECF6\", \"width\": 0.5}}, \"type\": \"barpolar\"}], \"carpet\": [{\"aaxis\": {\"endlinecolor\": \"#2a3f5f\", \"gridcolor\": \"white\", \"linecolor\": \"white\", \"minorgridcolor\": \"white\", \"startlinecolor\": \"#2a3f5f\"}, \"baxis\": {\"endlinecolor\": \"#2a3f5f\", \"gridcolor\": \"white\", \"linecolor\": \"white\", \"minorgridcolor\": \"white\", \"startlinecolor\": \"#2a3f5f\"}, \"type\": \"carpet\"}], \"choropleth\": [{\"colorbar\": {\"outlinewidth\": 0, \"ticks\": \"\"}, \"type\": \"choropleth\"}], \"contour\": [{\"colorbar\": {\"outlinewidth\": 0, \"ticks\": \"\"}, \"colorscale\": [[0.0, \"#0d0887\"], [0.1111111111111111, \"#46039f\"], [0.2222222222222222, \"#7201a8\"], [0.3333333333333333, \"#9c179e\"], [0.4444444444444444, \"#bd3786\"], [0.5555555555555556, \"#d8576b\"], [0.6666666666666666, \"#ed7953\"], [0.7777777777777778, \"#fb9f3a\"], [0.8888888888888888, \"#fdca26\"], [1.0, \"#f0f921\"]], \"type\": \"contour\"}], \"contourcarpet\": [{\"colorbar\": {\"outlinewidth\": 0, \"ticks\": \"\"}, \"type\": \"contourcarpet\"}], \"heatmap\": [{\"colorbar\": {\"outlinewidth\": 0, \"ticks\": \"\"}, \"colorscale\": [[0.0, \"#0d0887\"], [0.1111111111111111, \"#46039f\"], [0.2222222222222222, \"#7201a8\"], [0.3333333333333333, \"#9c179e\"], [0.4444444444444444, \"#bd3786\"], [0.5555555555555556, \"#d8576b\"], [0.6666666666666666, \"#ed7953\"], [0.7777777777777778, \"#fb9f3a\"], [0.8888888888888888, \"#fdca26\"], [1.0, \"#f0f921\"]], \"type\": \"heatmap\"}], \"heatmapgl\": [{\"colorbar\": {\"outlinewidth\": 0, \"ticks\": \"\"}, \"colorscale\": [[0.0, \"#0d0887\"], [0.1111111111111111, \"#46039f\"], [0.2222222222222222, \"#7201a8\"], [0.3333333333333333, \"#9c179e\"], [0.4444444444444444, \"#bd3786\"], [0.5555555555555556, \"#d8576b\"], [0.6666666666666666, \"#ed7953\"], [0.7777777777777778, \"#fb9f3a\"], [0.8888888888888888, \"#fdca26\"], [1.0, \"#f0f921\"]], \"type\": \"heatmapgl\"}], \"histogram\": [{\"marker\": {\"colorbar\": {\"outlinewidth\": 0, \"ticks\": \"\"}}, \"type\": \"histogram\"}], \"histogram2d\": [{\"colorbar\": {\"outlinewidth\": 0, \"ticks\": \"\"}, \"colorscale\": [[0.0, \"#0d0887\"], [0.1111111111111111, \"#46039f\"], [0.2222222222222222, \"#7201a8\"], [0.3333333333333333, \"#9c179e\"], [0.4444444444444444, \"#bd3786\"], [0.5555555555555556, \"#d8576b\"], [0.6666666666666666, \"#ed7953\"], [0.7777777777777778, \"#fb9f3a\"], [0.8888888888888888, \"#fdca26\"], [1.0, \"#f0f921\"]], \"type\": \"histogram2d\"}], \"histogram2dcontour\": [{\"colorbar\": {\"outlinewidth\": 0, \"ticks\": \"\"}, \"colorscale\": [[0.0, \"#0d0887\"], [0.1111111111111111, \"#46039f\"], [0.2222222222222222, \"#7201a8\"], [0.3333333333333333, \"#9c179e\"], [0.4444444444444444, \"#bd3786\"], [0.5555555555555556, \"#d8576b\"], [0.6666666666666666, \"#ed7953\"], [0.7777777777777778, \"#fb9f3a\"], [0.8888888888888888, \"#fdca26\"], [1.0, \"#f0f921\"]], \"type\": \"histogram2dcontour\"}], \"mesh3d\": [{\"colorbar\": {\"outlinewidth\": 0, \"ticks\": \"\"}, \"type\": \"mesh3d\"}], \"parcoords\": [{\"line\": {\"colorbar\": {\"outlinewidth\": 0, \"ticks\": \"\"}}, \"type\": \"parcoords\"}], \"pie\": [{\"automargin\": true, \"type\": \"pie\"}], \"scatter\": [{\"marker\": {\"colorbar\": {\"outlinewidth\": 0, \"ticks\": \"\"}}, \"type\": \"scatter\"}], \"scatter3d\": [{\"line\": {\"colorbar\": {\"outlinewidth\": 0, \"ticks\": \"\"}}, \"marker\": {\"colorbar\": {\"outlinewidth\": 0, \"ticks\": \"\"}}, \"type\": \"scatter3d\"}], \"scattercarpet\": [{\"marker\": {\"colorbar\": {\"outlinewidth\": 0, \"ticks\": \"\"}}, \"type\": \"scattercarpet\"}], \"scattergeo\": [{\"marker\": {\"colorbar\": {\"outlinewidth\": 0, \"ticks\": \"\"}}, \"type\": \"scattergeo\"}], \"scattergl\": [{\"marker\": {\"colorbar\": {\"outlinewidth\": 0, \"ticks\": \"\"}}, \"type\": \"scattergl\"}], \"scattermapbox\": [{\"marker\": {\"colorbar\": {\"outlinewidth\": 0, \"ticks\": \"\"}}, \"type\": \"scattermapbox\"}], \"scatterpolar\": [{\"marker\": {\"colorbar\": {\"outlinewidth\": 0, \"ticks\": \"\"}}, \"type\": \"scatterpolar\"}], \"scatterpolargl\": [{\"marker\": {\"colorbar\": {\"outlinewidth\": 0, \"ticks\": \"\"}}, \"type\": \"scatterpolargl\"}], \"scatterternary\": [{\"marker\": {\"colorbar\": {\"outlinewidth\": 0, \"ticks\": \"\"}}, \"type\": \"scatterternary\"}], \"surface\": [{\"colorbar\": {\"outlinewidth\": 0, \"ticks\": \"\"}, \"colorscale\": [[0.0, \"#0d0887\"], [0.1111111111111111, \"#46039f\"], [0.2222222222222222, \"#7201a8\"], [0.3333333333333333, \"#9c179e\"], [0.4444444444444444, \"#bd3786\"], [0.5555555555555556, \"#d8576b\"], [0.6666666666666666, \"#ed7953\"], [0.7777777777777778, \"#fb9f3a\"], [0.8888888888888888, \"#fdca26\"], [1.0, \"#f0f921\"]], \"type\": \"surface\"}], \"table\": [{\"cells\": {\"fill\": {\"color\": \"#EBF0F8\"}, \"line\": {\"color\": \"white\"}}, \"header\": {\"fill\": {\"color\": \"#C8D4E3\"}, \"line\": {\"color\": \"white\"}}, \"type\": \"table\"}]}, \"layout\": {\"annotationdefaults\": {\"arrowcolor\": \"#2a3f5f\", \"arrowhead\": 0, \"arrowwidth\": 1}, \"coloraxis\": {\"colorbar\": {\"outlinewidth\": 0, \"ticks\": \"\"}}, \"colorscale\": {\"diverging\": [[0, \"#8e0152\"], [0.1, \"#c51b7d\"], [0.2, \"#de77ae\"], [0.3, \"#f1b6da\"], [0.4, \"#fde0ef\"], [0.5, \"#f7f7f7\"], [0.6, \"#e6f5d0\"], [0.7, \"#b8e186\"], [0.8, \"#7fbc41\"], [0.9, \"#4d9221\"], [1, \"#276419\"]], \"sequential\": [[0.0, \"#0d0887\"], [0.1111111111111111, \"#46039f\"], [0.2222222222222222, \"#7201a8\"], [0.3333333333333333, \"#9c179e\"], [0.4444444444444444, \"#bd3786\"], [0.5555555555555556, \"#d8576b\"], [0.6666666666666666, \"#ed7953\"], [0.7777777777777778, \"#fb9f3a\"], [0.8888888888888888, \"#fdca26\"], [1.0, \"#f0f921\"]], \"sequentialminus\": [[0.0, \"#0d0887\"], [0.1111111111111111, \"#46039f\"], [0.2222222222222222, \"#7201a8\"], [0.3333333333333333, \"#9c179e\"], [0.4444444444444444, \"#bd3786\"], [0.5555555555555556, \"#d8576b\"], [0.6666666666666666, \"#ed7953\"], [0.7777777777777778, \"#fb9f3a\"], [0.8888888888888888, \"#fdca26\"], [1.0, \"#f0f921\"]]}, \"colorway\": [\"#636efa\", \"#EF553B\", \"#00cc96\", \"#ab63fa\", \"#FFA15A\", \"#19d3f3\", \"#FF6692\", \"#B6E880\", \"#FF97FF\", \"#FECB52\"], \"font\": {\"color\": \"#2a3f5f\"}, \"geo\": {\"bgcolor\": \"white\", \"lakecolor\": \"white\", \"landcolor\": \"#E5ECF6\", \"showlakes\": true, \"showland\": true, \"subunitcolor\": \"white\"}, \"hoverlabel\": {\"align\": \"left\"}, \"hovermode\": \"closest\", \"mapbox\": {\"style\": \"light\"}, \"paper_bgcolor\": \"white\", \"plot_bgcolor\": \"#E5ECF6\", \"polar\": {\"angularaxis\": {\"gridcolor\": \"white\", \"linecolor\": \"white\", \"ticks\": \"\"}, \"bgcolor\": \"#E5ECF6\", \"radialaxis\": {\"gridcolor\": \"white\", \"linecolor\": \"white\", \"ticks\": \"\"}}, \"scene\": {\"xaxis\": {\"backgroundcolor\": \"#E5ECF6\", \"gridcolor\": \"white\", \"gridwidth\": 2, \"linecolor\": \"white\", \"showbackground\": true, \"ticks\": \"\", \"zerolinecolor\": \"white\"}, \"yaxis\": {\"backgroundcolor\": \"#E5ECF6\", \"gridcolor\": \"white\", \"gridwidth\": 2, \"linecolor\": \"white\", \"showbackground\": true, \"ticks\": \"\", \"zerolinecolor\": \"white\"}, \"zaxis\": {\"backgroundcolor\": \"#E5ECF6\", \"gridcolor\": \"white\", \"gridwidth\": 2, \"linecolor\": \"white\", \"showbackground\": true, \"ticks\": \"\", \"zerolinecolor\": \"white\"}}, \"shapedefaults\": {\"line\": {\"color\": \"#2a3f5f\"}}, \"ternary\": {\"aaxis\": {\"gridcolor\": \"white\", \"linecolor\": \"white\", \"ticks\": \"\"}, \"baxis\": {\"gridcolor\": \"white\", \"linecolor\": \"white\", \"ticks\": \"\"}, \"bgcolor\": \"#E5ECF6\", \"caxis\": {\"gridcolor\": \"white\", \"linecolor\": \"white\", \"ticks\": \"\"}}, \"title\": {\"x\": 0.05}, \"xaxis\": {\"automargin\": true, \"gridcolor\": \"white\", \"linecolor\": \"white\", \"ticks\": \"\", \"title\": {\"standoff\": 15}, \"zerolinecolor\": \"white\", \"zerolinewidth\": 2}, \"yaxis\": {\"automargin\": true, \"gridcolor\": \"white\", \"linecolor\": \"white\", \"ticks\": \"\", \"title\": {\"standoff\": 15}, \"zerolinecolor\": \"white\", \"zerolinewidth\": 2}}}, \"updatemenus\": [{\"active\": 0, \"buttons\": [{\"args\": [{\"visible\": [true, true, true, true, true, true, true, true, true, false, false, false, false, false, false, false, false, false, false, false, false, false, false, false, false, false, false, false, false, false, false, false, false, false, false, false]}, {\"showlegend\": true, \"title\": \"MSN4\"}], \"label\": \"MSN4\", \"method\": \"update\"}, {\"args\": [{\"visible\": [false, false, false, false, false, false, false, false, false, true, true, true, true, true, true, true, true, true, false, false, false, false, false, false, false, false, false, false, false, false, false, false, false, false, false, false]}, {\"showlegend\": true, \"title\": \"MSN2\"}], \"label\": \"MSN2\", \"method\": \"update\"}, {\"args\": [{\"visible\": [false, false, false, false, false, false, false, false, false, false, false, false, false, false, false, false, false, false, true, true, true, true, true, true, true, true, true, false, false, false, false, false, false, false, false, false]}, {\"showlegend\": true, \"title\": \"YAP1\"}], \"label\": \"YAP1\", \"method\": \"update\"}, {\"args\": [{\"visible\": [false, false, false, false, false, false, false, false, false, false, false, false, false, false, false, false, false, false, false, false, false, false, false, false, false, false, false, true, true, true, true, true, true, true, true, true]}, {\"showlegend\": true, \"title\": \"WT\"}], \"label\": \"WT\", \"method\": \"update\"}]}]},\n",
       "                        {\"responsive\": true}\n",
       "                    ).then(function(){\n",
       "                            \n",
       "var gd = document.getElementById('1088b221-5ad9-4488-8696-114191a9aa65');\n",
       "var x = new MutationObserver(function (mutations, observer) {{\n",
       "        var display = window.getComputedStyle(gd).display;\n",
       "        if (!display || display === 'none') {{\n",
       "            console.log([gd, 'removed!']);\n",
       "            Plotly.purge(gd);\n",
       "            observer.disconnect();\n",
       "        }}\n",
       "}});\n",
       "\n",
       "// Listen for the removal of the full notebook cells\n",
       "var notebookContainer = gd.closest('#notebook-container');\n",
       "if (notebookContainer) {{\n",
       "    x.observe(notebookContainer, {childList: true});\n",
       "}}\n",
       "\n",
       "// Listen for the clearing of the current output cell\n",
       "var outputEl = gd.closest('.output');\n",
       "if (outputEl) {{\n",
       "    x.observe(outputEl, {childList: true});\n",
       "}}\n",
       "\n",
       "                        })\n",
       "                };\n",
       "                });\n",
       "            </script>\n",
       "        </div>"
      ]
     },
     "metadata": {},
     "output_type": "display_data"
    }
   ],
   "source": [
    "fig = go.Figure()\n",
    "\n",
    "# For each strain and pesticides, add a trace (the corresponding boxplot) to the figure. \n",
    "for column in df_Ks.columns.to_list():\n",
    "    for yd,xd in zip(df_Ks[column],pesticides):\n",
    "        fig.add_trace(go.Box(\n",
    "                y = yd,\n",
    "                name = xd,\n",
    "                boxpoints='all',\n",
    "                whiskerwidth=0.4,\n",
    "                marker_size=4,\n",
    "                line_width=1))\n",
    "        \n",
    "# Dropdown menu.\n",
    "fig.update_layout(\n",
    "    updatemenus=[go.layout.Updatemenu(\n",
    "        active=0,\n",
    "        buttons=list(\n",
    "            [dict(label = 'MSN4',\n",
    "                  method = 'update',\n",
    "                  args = [{'visible': vis_1}, # the index of True aligns with the indices of plot traces\n",
    "                          {'title': 'MSN4',\n",
    "                           'showlegend':True}]),\n",
    "             dict(label = 'MSN2',\n",
    "                  method = 'update',\n",
    "                  args = [{'visible': vis_2},\n",
    "                          {'title': 'MSN2',\n",
    "                           'showlegend':True}]),\n",
    "             dict(label = 'YAP1',\n",
    "                  method = 'update',\n",
    "                  args = [{'visible': vis_3},\n",
    "                          {'title': 'YAP1',\n",
    "                           'showlegend':True}]),\n",
    "             dict(label = 'WT',\n",
    "                  method = 'update',\n",
    "                  args = [{'visible': vis_4},\n",
    "                          {'title': 'WT',\n",
    "                           'showlegend':True}]),\n",
    "            ])\n",
    "        )\n",
    "    ])\n"
   ]
  },
  {
   "cell_type": "markdown",
   "metadata": {},
   "source": [
    "<h4> Multiple tests with Benjamini/Hochberg correction </h4>"
   ]
  },
  {
   "cell_type": "code",
   "execution_count": 16,
   "metadata": {},
   "outputs": [],
   "source": [
    "from scipy.stats import ttest_ind\n",
    "from statsmodels.stats.multitest import multipletests"
   ]
  },
  {
   "cell_type": "code",
   "execution_count": 25,
   "metadata": {},
   "outputs": [],
   "source": [
    "# Compute p-values for t-test on the values of K's for each strain.\n",
    "p_vals_msn2 =[ttest_ind(elt,K_msn2[-1]).pvalue for elt in K_msn2[:-1]]\n",
    "p_vals_msn4 =[ttest_ind(elt,K_msn4[-1]).pvalue for elt in K_msn4[:-1]]\n",
    "p_vals_yap1 =[ttest_ind(elt,K_yap1[-1]).pvalue for elt in K_yap1[:-1]]\n",
    "p_vals_wt =[ttest_ind(elt,K_wt[-1]).pvalue for elt in K_wt[:-1]]"
   ]
  },
  {
   "cell_type": "code",
   "execution_count": 46,
   "metadata": {},
   "outputs": [
    {
     "data": {
      "text/plain": [
       "(array([False, False, False, False,  True,  True, False, False]),\n",
       " array([0.06020381, 0.06020381, 0.09068768, 0.40938372, 0.02881275,\n",
       "        0.02881275, 0.45120165, 0.47114084]),\n",
       " 0.006391150954545011,\n",
       " 0.00625)"
      ]
     },
     "execution_count": 46,
     "metadata": {},
     "output_type": "execute_result"
    }
   ],
   "source": [
    "# Multiple testing for the Benjamini-Hochberg procedure.\n",
    "multipletests(p_vals_msn2,method='fdr_bh')"
   ]
  },
  {
   "cell_type": "markdown",
   "metadata": {},
   "source": [
    "Multiple testing with Benjamini-Hochberg procedure (correcting for False Discovery Rate): only for MSN2 we get two significant tests for the pesticides Diazinon and Metolachlore."
   ]
  },
  {
   "cell_type": "code",
   "execution_count": null,
   "metadata": {},
   "outputs": [],
   "source": []
  }
 ],
 "metadata": {
  "kernelspec": {
   "display_name": "Python 3",
   "language": "python",
   "name": "python3"
  },
  "language_info": {
   "codemirror_mode": {
    "name": "ipython",
    "version": 3
   },
   "file_extension": ".py",
   "mimetype": "text/x-python",
   "name": "python",
   "nbconvert_exporter": "python",
   "pygments_lexer": "ipython3",
   "version": "3.7.3"
  }
 },
 "nbformat": 4,
 "nbformat_minor": 2
}
